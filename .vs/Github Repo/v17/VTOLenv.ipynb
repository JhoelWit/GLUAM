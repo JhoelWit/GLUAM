{
 "cells": [
  {
   "cell_type": "code",
   "execution_count": null,
   "metadata": {},
   "outputs": [],
   "source": [
    "import numpy as np\n",
    "import operator\n",
    "import matplotlib.pyplot as plt\n",
    "import time\n",
    "%matplotlib inline"
   ]
  },
  {
   "cell_type": "markdown",
   "metadata": {},
   "source": [
    "# Class for the Environment and Agent"
   ]
  },
  {
   "cell_type": "markdown",
   "metadata": {},
   "source": [
    "- Vertiport class will have the environment\n",
    "- The environment will start off as a discrete grid world\n",
    "- The environment will accept the number of vertiports, and scale accordingly in the future, for now it will start with three vertiports"
   ]
  },
  {
   "cell_type": "code",
   "execution_count": null,
   "metadata": {},
   "outputs": [],
   "source": [
    "class Vertiport(num_ports=3):\n",
    "    # Initialize the environment variables\n",
    "    def __init__(self,num_ports):\n",
    "        # Environment details\n",
    "        self.height = 5 * num_ports\n",
    "        self.width = 5 * num_ports\n",
    "        self.grid = np.zeros((  self.height , self.width  )) # initial reward will be 0 for each state\n",
    "\n",
    "        # Starting position for the agent\n",
    "        self.startpts = [] # To keep track of the different agent starting points and make sure they don't conflict\n",
    "        self.current_location = (np.floor(self.height / 2) , np.random.randint(0,self.width))\n",
    "        self.start_location = self.current_location\n",
    "        self.previous_location = self.current_location\n",
    "        self.startpts.append(self.start_location)\n",
    "\n",
    "        # Set locations for each vertiport\n",
    "        self.port_locations = [ [] for ports in range(num_ports) ]\n",
    "        self.terminal_states = []\n",
    "        for i in range(num_ports):\n",
    "            location = (np.floor( self.height / i ), np.random.randint(0,self.width))\n",
    "            self.port_locations[i] = location\n",
    "            self.terminal_states.append(location)\n",
    "        \n",
    "        # Set rewards for each boundary state (ports)\n",
    "        self.port_reward = 10\n",
    "        for i in range(num_ports):\n",
    "            self.grid[self.port_locations[i][0],self.port_locations[i][1]] = self.port_reward \n",
    "\n",
    "        # Action space\n",
    "        self.actions = ['UP', 'DOWN', 'LEFT', 'RIGHT','LAND','TAKEOFF','RETURN']\n",
    "        "
   ]
  },
  {
   "cell_type": "code",
   "execution_count": null,
   "metadata": {},
   "outputs": [],
   "source": [
    "class ATC(num_agents = 5,velocity = 1):\n",
    "    def __init__(self, gamma=1):\n",
    "        self.weatherStates = ['WIND GUST','WIND BREEZE','HIGH OBSTACLE','LOW OBSTACLE','NORMAL']\n",
    "        self.q_value = [0 for agents in range(num_agents)]\n",
    "        self.gamma = gamma"
   ]
  },
  {
   "cell_type": "code",
   "execution_count": null,
   "metadata": {},
   "outputs": [],
   "source": [
    "class ATC:\n",
    "    # trajecory --> call some path planning algo-->[1,2,3,3,4,6]\n",
    "    # schedule ---> function? member variable? time?\n",
    "    # schedule() ---> [ {'starting_pad' :, 'ending_pad', 'start_time', 'end_time' }, , ]\n",
    "    # weather ---> \n",
    "    def __init__(self, vehicles = 5, pads = 3):\n",
    "        self.vehicles = vehicles\n",
    "        self.pads = pads\n",
    "        self.vehicles = []\n",
    "    \n",
    "    \n",
    "    def compute(self):\n",
    "        reward = 0\n",
    "        for vehicle in self.vehicles:\n",
    "            n = np.random.randint(0,len(self.weatherStates))\n",
    "            weather = self.weatherStates(n)\n",
    "            # add in the uncertainities to the position\n",
    "            vehicle.update_state(weather)\n",
    "            state = vehicle.state\n",
    "            action = get_action(state)\n",
    "            reward += get_reward(action)\n",
    "        return reward"
   ]
  },
  {
   "cell_type": "code",
   "execution_count": null,
   "metadata": {},
   "outputs": [],
   "source": [
    "class Vehicle:\n",
    "    def __init__(self, drone, start):\n",
    "        # airsim object\n",
    "        self.drone = drone \n",
    "        self.state = {'airsim_state' : None , 'uncertain_state' : start ,  'battery' : 1 }\n",
    "    \n",
    "    def update(self, weather, vehicle_name):\n",
    "        self.state['airsim'] = self.drone.GetMultiRotorState(vehicle_name = vehicle_name)\n",
    "        # self.state['uncertain_state'][0] += "
   ]
  },
  {
   "cell_type": "markdown",
   "metadata": {},
   "source": [
    "# Airsim gym wrapper attempt\n"
   ]
  },
  {
   "cell_type": "code",
   "execution_count": null,
   "metadata": {},
   "outputs": [],
   "source": [
    "class AirSimDroneEnv(gym.Env):\n",
    "    def __init__(self):\n",
    "        "
   ]
  }
 ],
 "metadata": {
  "language_info": {
   "name": "python"
  },
  "orig_nbformat": 4
 },
 "nbformat": 4,
 "nbformat_minor": 2
}
