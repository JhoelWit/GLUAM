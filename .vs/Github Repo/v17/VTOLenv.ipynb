{
 "cells": [
  {
   "cell_type": "code",
   "execution_count": null,
   "metadata": {},
   "outputs": [],
   "source": [
    "import numpy as np\n",
    "import operator\n",
    "import matplotlib.pyplot as plt\n",
    "import time\n",
    "%matplotlib inline"
   ]
  },
  {
   "cell_type": "markdown",
   "metadata": {},
   "source": [
    "# Class for the Environment and Agent"
   ]
  },
  {
   "cell_type": "markdown",
   "metadata": {},
   "source": [
    "- Vertiport class will have the environment\n",
    "- The environment will start off as a discrete grid world\n",
    "- The environment will accept the number of vertiports, and scale accordingly in the future, for now it will start with three vertiports"
   ]
  },
  {
   "cell_type": "code",
   "execution_count": null,
   "metadata": {},
   "outputs": [],
   "source": [
    "class Vertiport(num_ports=3):\n",
    "    # Initialize the environment variables\n",
    "    def __init__(self,num_ports):\n",
    "        # Environment details\n",
    "        self.height = 5 * num_ports\n",
    "        self.width = 5 * num_ports\n",
    "        self.grid = np.zeros((  self.height , self.width  )) # initial reward will be 0 for each state\n",
    "\n",
    "        # Starting position for the agent\n",
    "        self.startpts = [] # To keep track of the different agent starting points and make sure they don't conflict\n",
    "        self.current_location = (np.floor(self.height / 2) , np.random.randint(0,self.width))\n",
    "        self.start_location = self.current_location\n",
    "        self.previous_location = self.current_location\n",
    "        self.startpts.append(self.start_location)\n",
    "\n",
    "        # Set locations for each vertiport\n",
    "        self.port_locations = [ [] for ports in range(num_ports) ]\n",
    "        self.terminal_states = []\n",
    "        for i in range(num_ports):\n",
    "            location = (np.floor( self.height / i ), np.random.randint(0,self.width))\n",
    "            self.port_locations[i] = location\n",
    "            self.terminal_states.append(location)\n",
    "        \n",
    "        # Set rewards for each boundary state (ports)\n",
    "        self.port_reward = 10\n",
    "        for i in range(num_ports):\n",
    "            self.grid[self.port_locations[i][0],self.port_locations[i][1]] = self.port_reward \n",
    "\n",
    "        # Action space\n",
    "        self.actions = ['UP', 'DOWN', 'LEFT', 'RIGHT','LAND','TAKEOFF','RETURN']\n",
    "        "
   ]
  }
 ],
 "metadata": {
  "language_info": {
   "name": "python"
  },
  "orig_nbformat": 4
 },
 "nbformat": 4,
 "nbformat_minor": 2
}
